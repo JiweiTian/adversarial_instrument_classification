{
 "cells": [
  {
   "cell_type": "markdown",
   "metadata": {},
   "source": [
    "This is additional material for the technical report \"End-to-End Adversarial White Box Attacks on Music Instrument Classification\".\n",
    "\n",
    "*Institute for Computational Perception, JKU Linz*"
   ]
  },
  {
   "cell_type": "markdown",
   "metadata": {},
   "source": [
    "### Structure and Shortcuts\n",
    "A.1 [Parameters and Detailed Results](#1)<br>\n",
    "&emsp;A.1.1 [Detailed results for highest SNR with at least 150 adversarial samples](#1-1)<br>\n",
    "&emsp;&emsp;A.1.1.1 [Parameters](#1-1-1)<br>\n",
    "&emsp;&emsp;A.1.1.2 [Results per run](#1-1-2)<br>\n",
    "&emsp;A.1.2 [Detailed results for highest SNR with at least 180 adversarial samples](#1-2)<br>\n",
    "&emsp;&emsp;A.1.2.1 [Parameters](#1-2-1)<br>\n",
    "&emsp;&emsp;A.1.2.2 [Results per run](#1-2-2)<br>\n",
    "&emsp;A.1.3 [Paired T-Test Results](#1-3)<br>\n",
    "A.2 [Confusion Matrices](#2)<br>\n",
    "&emsp;A.2.1 [Clean Data](#2-1)<br>\n",
    "&emsp;A.2.2 [FGSM](#2-2)<br>\n",
    "&emsp;A.2.3 [PGDn](#2-3)<br>\n",
    "&emsp;A.2.4 [C&amp;W](#2-4)<br>\n",
    "&emsp;A.2.5 [Multi-Scale C&amp;W](#2-5)<br>\n",
    "&emsp;A.2.6 [Confusion Matrices for Accordion Target](#2-6)<br>\n",
    "A.3 [Listening Examples](#3)<br>\n",
    "&emsp;A.3.1 [Listening Examples for highest SNR with at least 150 adversarial samples](#3-1)<br>\n",
    "&emsp;A.3.2 [Listening Examples for highest SNR with at least 180 adversarial samples](#3-2)<br>\n",
    "&emsp;A.3.3 [Improved FGSM Results](#3-3)<br>\n",
    "&emsp;A.3.4 [Listening Examples for Target Class Accordion](#3-4)<br>"
   ]
  },
  {
   "cell_type": "markdown",
   "metadata": {},
   "source": [
    "<a name=\"1\"></a> \n",
    "# A.1 Parameters and Detailed Results"
   ]
  },
  {
   "cell_type": "markdown",
   "metadata": {},
   "source": [
    "<a name=\"1-1\"></a> \n",
    "## A.1.1 Detailed results for highest SNR with at least 150 adversarial samples\n",
    "\n",
    "Table 1 in section 5.2 contains a summary of the results we obtain for the four end-to-end adversarial attacks. Lines 3-6 show the results when choosing parameter settings that achieve the highest SNR for at least 150 found adversarial examples. In the subsequent tables, we first show the method-specific parameters leading to these results, followed by detailed results for all 5 runs with different random seeds. In addition, we state results on data that is overlayed with white-noise of comparable average SNR (noisy_1 and noisy_2). \n",
    "\n",
    "<a name=\"1-1-1\"></a> \n",
    "### A.1.1.1 Parameters\n",
    "\n",
    "| Algorithm           | Parameters                                                |\n",
    "| :------------------ | :-------------------------------------------------------- |\n",
    "| FGSM                | &straightepsilon; = 0.1                                   |\n",
    "| PGDn                | &straightepsilon; = 0.0005, &eta; = 0.00001               |\n",
    "| C&amp;W             | &straightepsilon; = 0.01, &alpha; = 0.01, &eta; = 0.00001 |\n",
    "| Multi-Scale C&amp;W | &straightepsilon; = 0.01, &alpha; = 10.0, &eta; = 0.00001 |"
   ]
  },
  {
   "cell_type": "markdown",
   "metadata": {},
   "source": [
    "<a name=\"1-1-2\"></a>\n",
    "### A.1.1.2 Results per run\n",
    "\n",
    "The rows of following table show different runs and results for a specific run. More precisely, the number of adversarial examples that were found by an adversary, the accuracy on the entire validation set and the average and standard deviation of the Signal-to-noise ratio (SNR) are stated. Furthermore, we list the median of iterations it takes for an adversary to find an adversarial perturbation, and the average confidence of our sytem in its classifications, i.e. the likelihood it assigns to a particular prediction. The average SNR and confidence are computed on all 200 samples for clean data and data overlayed with white-noise; for the adversaries, the two factors are computed solely on adversarial examples. All means, medians and standard deviations are computed across all samples used in a run.\n",
    "\n",
    "\n",
    "| Data Origin         | Run   | # Samples | Accuracy | SNR                  | Iterations | Confidence        |\n",
    "| :------------------ | :---: | --------: | :------: | :------------------: | :--------: | :---------------: |\n",
    "| clean               | -     | 200       | 0.835    | -                    | -          | 0.934 $\\pm$ 0.133 |\n",
    "| noisy_1             | -     | 200       | 0.110    | -7.838 $\\pm$ 12.186  | -          | 0.935 $\\pm$ 0.122 |\n",
    "| noisy_2             | -     | 200       | 0.790    | 42.161 $\\pm$ 12.187  | -          | 0.931 $\\pm$ 0.130 |\n",
    "| FGSM                | -     | 153       | 0.250    | -7.736 $\\pm$ 11.888  | 1.0        | 0.720 $\\pm$ 0.196 |\n",
    "| PGDn                | 1     | 151       | 0.175    | 40.067 $\\pm$ 11.457  | 16.0       | 0.546 $\\pm$ 0.131 |\n",
    "|                     | 2     | 153       | 0.165    | 40.214 $\\pm$ 11.466  | 16.0       | 0.546 $\\pm$ 0.128 |\n",
    "|                     | 3     | 152       | 0.170    | 40.140 $\\pm$ 11.446  | 16.0       | 0.547 $\\pm$ 0.128 |\n",
    "|                     | 4     | 152       | 0.170    | 40.134 $\\pm$ 11.441  | 16.0       | 0.552 $\\pm$ 0.129 |\n",
    "|                     | 5     | 151       | 0.175    | 40.072 $\\pm$ 11.460  | 15.0       | 0.544 $\\pm$ 0.129 |\n",
    "| C&amp;W             | 1     | 150       | 0.225    | 44.736 $\\pm$ 11.289  | 46.0       | 0.451 $\\pm$ 0.105 |\n",
    "|                     | 2     | 156       | 0.180    | 43.850 $\\pm$ 10.860  | 53.0       | 0.444 $\\pm$ 0.115 |\n",
    "|                     | 3     | 150       | 0.210    | 44.487 $\\pm$ 10.558  | 53.0       | 0.449 $\\pm$ 0.107 |\n",
    "|                     | 4     | 155       | 0.200    | 43.788 $\\pm$ 10.799  | 52.0       | 0.446 $\\pm$ 0.097 |\n",
    "|                     | 5     | 155       | 0.190    | 44.300 $\\pm$ 10.610  | 53.0       | 0.448 $\\pm$ 0.111 |\n",
    "| Multi-Scale C&amp;W | 1     | 166       | 0.165    | 43.977 $\\pm$ 11.061  | 80.0       | 0.438 $\\pm$ 0.099 |\n",
    "|                     | 2     | 166       | 0.160    | 43.865 $\\pm$ 10.262  | 76.0       | 0.440 $\\pm$ 0.111 |\n",
    "|                     | 3     | 158       | 0.190    | 43.726 $\\pm$ 10.181  | 67.0       | 0.439 $\\pm$ 0.112 |\n",
    "|                     | 4     | 163       | 0.155    | 43.790 $\\pm$ 10.118  | 67.0       | 0.441 $\\pm$ 0.098 |\n",
    "|                     | 5     | 165       | 0.165    | 43.743 $\\pm$ 10.350  | 68.0       | 0.443 $\\pm$ 0.107 |"
   ]
  },
  {
   "cell_type": "markdown",
   "metadata": {},
   "source": [
    "<a name=\"1-2\"></a>\n",
    "## A.1.2 Detailed Results for highest SNR with at least 180 adversarial samples\n",
    "\n",
    "Lines 7-10 in Table 1 in section 5.2 contain summarised results of the four adversarial attack methods, when choosing parameter settings that lead to the highest SNR for at least 180 found adversarial examples. Once more, the subsequent tables show these parameter settings as well as results for 5 runs with different random seeds, and additional results on data overlayed with white-noise of comparable average SNR (noisy_1, noisy_2 and noisy_3). \n",
    "\n",
    "<a name=\"1-2-1\"></a>\n",
    "### A.1.2.1 Parameters\n",
    "\n",
    "| Algorithm           | Parameters                                                |\n",
    "| :------------------ | :-------------------------------------------------------- |\n",
    "| FGSM                | &straightepsilon; = 0.8                                   |\n",
    "| PGDn                | &straightepsilon; = 0.01, &eta; = 0.001                   |\n",
    "| C&amp;W             | &straightepsilon; = 0.01, &alpha; = 0.1, &eta; = 0.00001  |\n",
    "| Multi-Scale C&amp;W | &straightepsilon; = 0.01, &alpha; = 15.0, &eta; = 0.00005 |"
   ]
  },
  {
   "cell_type": "markdown",
   "metadata": {},
   "source": [
    "<a name=\"1-2-2\"></a>\n",
    "### A.1.2.2 Results per run \n",
    "\n",
    "The rows of the table again show different runs and the according results. Columns contain number of adversarial examples found, accuracy on validation data, average SNR, the median of required iterations of an adversary, and average confidence of our system in its predictions. \n",
    "\n",
    "\n",
    "| Data Origin         | Run   | # Samples | Accuracy | SNR                  | Iterations | Confidence        |\n",
    "| :------------------ | :---: | --------: | :------: | :------------------: | :--------: | :---------------: |\n",
    "| clean               | -     | 200       | 0.835    | -                    | -          | 0.934 $\\pm$ 0.133 |\n",
    "| noisy_1             | -     | 200       | 0.100    | -22.778 $\\pm$ 12.253 | -          | 0.974 $\\pm$ 0.037 |\n",
    "| noisy_2             | -     | 200       | 0.565    | 17.162 $\\pm$ 12.187  | -          | 0.839 $\\pm$ 0.179 |\n",
    "| noisy_3             | -     | 200       | 0.790    | 42.161 $\\pm$ 12.187  | -          | 0.931 $\\pm$ 0.130 |\n",
    "| FGSM                | -     | 179       | 0.130    | -24.831 $\\pm$ 11.840 | 1.0        | 0.859 $\\pm$ 0.151 |\n",
    "| PGDn                | 1     | 192       | 0.030    | 16.573 $\\pm$ 12.123  | 2.0        | 0.740 $\\pm$ 0.184 |\n",
    "|                     | 2     | 191       | 0.025    | 16.472 $\\pm$ 12.078  | 2.0        | 0.743 $\\pm$ 0.187 |\n",
    "|                     | 3     | 192       | 0.030    | 16.570 $\\pm$ 12.114  | 2.0        | 0.734 $\\pm$ 0.191 |\n",
    "|                     | 4     | 189       | 0.020    | 16.322 $\\pm$ 12.041  | 2.0        | 0.753 $\\pm$ 0.180 |\n",
    "|                     | 5     | 190       | 0.025    | 16.409 $\\pm$ 12.078  | 2.0        | 0.740 $\\pm$ 0.186 |\n",
    "| C&amp;W             | 1     | 181       | 0.090    | 43.266 $\\pm$ 10.901  | 63.0       | 0.453 $\\pm$ 0.100 |\n",
    "|                     | 2     | 184       | 0.085    | 43.037 $\\pm$ 10.247  | 72.5       | 0.438 $\\pm$ 0.111 |\n",
    "|                     | 3     | 177       | 0.110    | 43.022 $\\pm$ 10.255  | 62.0       | 0.440 $\\pm$ 0.110 |\n",
    "|                     | 4     | 180       | 0.085    | 42.776 $\\pm$ 10.336  | 67.0       | 0.442 $\\pm$ 0.094 |\n",
    "|                     | 5     | 179       | 0.100    | 42.781 $\\pm$ 10.399  | 66.0       | 0.449 $\\pm$ 0.109 |\n",
    "| Multi-Scale C&amp;W | 1     | 196       | 0.020    | 39.786 $\\pm$ 11.101  | 23.0       | 0.501 $\\pm$ 0.158 |\n",
    "|                     | 2     | 198       | 0.020    | 39.479 $\\pm$ 10.088  | 21.0       | 0.490 $\\pm$ 0.158 |\n",
    "|                     | 3     | 197       | 0.030    | 39.476 $\\pm$ 10.636  | 22.0       | 0.485 $\\pm$ 0.162 |\n",
    "|                     | 4     | 196       | 0.025    | 39.410 $\\pm$ 10.461  | 24.0       | 0.482 $\\pm$ 0.150 |\n",
    "|                     | 5     | 195       | 0.025    | 39.281 $\\pm$ 10.825  | 23.0       | 0.492 $\\pm$ 0.150 |"
   ]
  },
  {
   "cell_type": "markdown",
   "metadata": {},
   "source": [
    "<a name=\"1-3\"></a>\n",
    "## A.1.3 Paired T-Test Results\n",
    "\n",
    "This section contains the results of the paired t-test we computed for an excerpt of different results presented in section 5.2. We use 5&#37; as an error-level, meaning that differences are statistically significant whenever $\\left| t \\right| > t_{95,df=4} = 2.776$ (marked in **bold**).\n",
    "\n",
    "### Number of samples (for at least 150 adversarial examples)\n",
    "\n",
    "| Method 1            | Method 2            | &vert;t-value&vert; |\n",
    "| :------------------ | :------------------ | ------------------: |\n",
    "| Multi-Scale C&amp;W | FGSM                | **7.051**           |\n",
    "|                     | PGDn                | **7.002**           |\n",
    "|                     | C&amp;W             | **3.942**           |\n",
    "\n",
    "### Number of samples (for at least 180 adversarial examples)\n",
    "\n",
    "| Method 1            | Method 2            | &vert;t-value&vert; |\n",
    "| :------------------ | :------------------ | ------------------: |\n",
    "| Multi-Scale C&amp;W | FGSM                | **34.124**          |\n",
    "|                     | PGDn                | **9.333**           |\n",
    "|                     | C&amp;W             | **15.885**          |\n",
    "\n",
    "### Accuracy (for at least 150 adversarial examples)\n",
    "\n",
    "| Method 1            | Method 2            | &vert;t-value&vert; |\n",
    "| :------------------ | :------------------ | ------------------: |\n",
    "| Multi-Scale C&amp;W | FGSM                | **13.738**          |\n",
    "|                     | PGDn                | 0.645               |\n",
    "|                     | C&amp;W             | **4.267**           |\n",
    "|                     | noise (42.161dB)    | **103.120**         |\n",
    "\n",
    "### Accuracy (for at least 180 adversarial examples)\n",
    "\n",
    "| Method 1            | Method 2            | &vert;t-value&vert; |\n",
    "| :------------------ | :------------------ | ------------------: |\n",
    "| Multi-Scale C&amp;W | FGSM                | **56.659**          |\n",
    "|                     | PGDn                | 0.784               |\n",
    "|                     | C&amp;W             | **19.799**          |\n",
    "|                     | noise (42.161dB)    | **409.444**         |\n",
    "\n",
    "### SNR (for at least 150 adversarial examples)\n",
    "\n",
    "| Method 1             | Method 2            | &vert;t-value&vert; |\n",
    "| :------------------- | :------------------ | ------------------: |\n",
    "| C&amp;W              | FGSM                | **284.629**         |\n",
    "|                      | PGDn                | **20.342**          |\n",
    "|                      | Multi-Scale C&amp;W | 2.345               |\n",
    "\n",
    "### SNR (for at least 180 adversarial examples)\n",
    "\n",
    "| Method 1             | Method 2            | &vert;t-value&vert; |\n",
    "| :------------------- | :------------------ | ------------------: |\n",
    "| C&amp;W              | FGSM                | **739.925**         |\n",
    "|                      | PGDn                | **476.011**         |\n",
    "|                      | Multi-Scale C&amp;W | **102.171**         |\n"
   ]
  },
  {
   "cell_type": "markdown",
   "metadata": {},
   "source": [
    "<a name=\"2\"></a>\n",
    "# A.2 Confusion Matrices\n",
    "\n",
    "In section 5.2, we discuss several results of the four adversarial end-to-end attacks, with Figure 2 containing an excerpt of confusion matrices, showing the confusions and correct predictions of our instrument classification system before and after an adversarial attack. In what follows, we provide detailed confusion matrices, for all parameter settings listed in Table 1 in section 5.2, and the tables in section A.1. More precisely, for the four adversaries, the confusion matrix on the left-hand side shows the results of choosing the parameter setting in A.1.1.1 (requiring at least 150 adversarial examples), and matrices to the right are obtained by using the parameters introduced in A.1.1.2 (for at least 180 examples). Figure 2 in section 5.2. shows the matrices on clean data (A.2.1), on PGDn (A.2.3 left-hand side) and on Multi-Scale C&amp;W data (A.2.5 right-hand side).\n",
    "\n",
    "For all confusion matrices, the columns represent true, and rows show predicted classes. All values are normalised such that columns sum to 1; in other words, we show for a particular ground-truth label the percentage samples that is classified as any of the total 12 classes. Correct predictions are shown in the diagonal, and confusions are off-diagonal."
   ]
  },
  {
   "cell_type": "code",
   "execution_count": 1,
   "metadata": {},
   "outputs": [],
   "source": [
    "from IPython.display import HTML, display"
   ]
  },
  {
   "cell_type": "markdown",
   "metadata": {},
   "source": [
    "<a name=\"2-1\"></a>\n",
    "## A.2.1 Confusion Matrix on Clean Data\n",
    "\n",
    "The first confusion matrix shows the performance of the system on clean data, i.e. before an adversarial attack."
   ]
  },
  {
   "cell_type": "code",
   "execution_count": 2,
   "metadata": {
    "scrolled": false
   },
   "outputs": [
    {
     "data": {
      "text/html": [
       "<table><tr><td><img src='images/clean_cm.png'></td></tr></table>"
      ],
      "text/plain": [
       "<IPython.core.display.HTML object>"
      ]
     },
     "metadata": {},
     "output_type": "display_data"
    }
   ],
   "source": [
    "display(HTML(\"<table><tr><td><img src='images/clean_cm.png'></td></tr></table>\"))"
   ]
  },
  {
   "cell_type": "markdown",
   "metadata": {},
   "source": [
    "<a name=\"2-2\"></a>\n",
    "## A.2.2 Confusion Matrices for FGSM\n",
    "\n",
    "Subsequent matrices show confusions of the system after FGSM attacks; on the left side, we use &straightepsilon; = 0.1, and on the right-hand side &straightepsilon; = 0.8."
   ]
  },
  {
   "cell_type": "code",
   "execution_count": 3,
   "metadata": {},
   "outputs": [
    {
     "data": {
      "text/html": [
       "<table><tr><td><img src='images/fgsm01_cm.png'></td><td><img src='images/fgsm08_cm.png'></td></tr></table>"
      ],
      "text/plain": [
       "<IPython.core.display.HTML object>"
      ]
     },
     "metadata": {},
     "output_type": "display_data"
    }
   ],
   "source": [
    "display(HTML(\"<table><tr><td><img src='images/fgsm01_cm.png'></td><td><img src='images/fgsm08_cm.png'></td></tr></table>\"))"
   ]
  },
  {
   "cell_type": "markdown",
   "metadata": {},
   "source": [
    "<a name=\"2-3\"></a>\n",
    "## A.2.3 Confusion Matrices for PGDn\n",
    "\n",
    "The next confusion matrices are the result of PGDn attacks with the parameters &straightepsilon; = 0.0005 and &eta; = 0.00001 to the left, and &straightepsilon; = 0.01 and &eta; = 0.001 to the right."
   ]
  },
  {
   "cell_type": "code",
   "execution_count": 4,
   "metadata": {},
   "outputs": [
    {
     "data": {
      "text/html": [
       "<table><tr><td><img src='images/pgdn_eps00005_lr1e-05_cm.png'></td><td><img src='images/pgdn_eps001_lr0001_cm.png'></td></tr></table>"
      ],
      "text/plain": [
       "<IPython.core.display.HTML object>"
      ]
     },
     "metadata": {},
     "output_type": "display_data"
    }
   ],
   "source": [
    "display(HTML(\"<table><tr><td><img src='images/pgdn_eps00005_lr1e-05_cm.png'></td><td><img src='images/pgdn_eps001_lr0001_cm.png'></td></tr></table>\"))"
   ]
  },
  {
   "cell_type": "markdown",
   "metadata": {},
   "source": [
    "<a name=\"2-4\"></a>\n",
    "## A.2.4 Confusion Matrices for C&amp;W\n",
    "\n",
    "The confusion matrices for C&amp;W are shown in following two images. To the left, we use &alpha; = 0.01, &straightepsilon; = 0.01 and &eta; = 0.00001. On the right-hand side, we change &alpha; only and use &alpha; = 0.1, &straightepsilon; = 0.01 and &eta; = 0.00001. For both results, we sample targets randomly."
   ]
  },
  {
   "cell_type": "code",
   "execution_count": 5,
   "metadata": {},
   "outputs": [
    {
     "data": {
      "text/html": [
       "<table><tr><td><img src='images/cw_a001_c001_lr1e-05_cm.png'></td><td><img src='images/cw_a01_c001_lr1e-05_cm.png'></td></tr></table>"
      ],
      "text/plain": [
       "<IPython.core.display.HTML object>"
      ]
     },
     "metadata": {},
     "output_type": "display_data"
    }
   ],
   "source": [
    "display(HTML(\"<table><tr><td><img src='images/cw_a001_c001_lr1e-05_cm.png'></td><td><img src='images/cw_a01_c001_lr1e-05_cm.png'></td></tr></table>\"))"
   ]
  },
  {
   "cell_type": "markdown",
   "metadata": {},
   "source": [
    "<a name=\"2-5\"></a>\n",
    "## A.2.5 Confusion Matrices for Multi-Scale C&amp;W\n",
    "\n",
    "Multi-Scale C&amp;W leads to subsequent confusion matrices, using the parameters &alpha; = 10.0, &straightepsilon; = 0.01 and &eta; = 0.00001 on the left-hand side; on the right-hand side, we take &alpha; = 15.0, &straightepsilon; = 0.01 and &eta; = 0.00005. Targets in both cases are sampled randomly."
   ]
  },
  {
   "cell_type": "code",
   "execution_count": 6,
   "metadata": {},
   "outputs": [
    {
     "data": {
      "text/html": [
       "<table><tr><td><img src='images/mscw_a10_c001_lr1e-05_cm.png'></td><td><img src='images/mscw_a15_c001_lr5e-05_cm.png'></td></tr></table>"
      ],
      "text/plain": [
       "<IPython.core.display.HTML object>"
      ]
     },
     "metadata": {},
     "output_type": "display_data"
    }
   ],
   "source": [
    "display(HTML(\"<table><tr><td><img src='images/mscw_a10_c001_lr1e-05_cm.png'></td><td><img src='images/mscw_a15_c001_lr5e-05_cm.png'></td></tr></table>\"))"
   ]
  },
  {
   "cell_type": "markdown",
   "metadata": {},
   "source": [
    "<a name=\"2-6\"></a>\n",
    "## A.2.6 Confusion Matrices for Accordion Target\n",
    "\n",
    "The final two confusion matrices show the performance of our system after targeted attacks of C&amp;W and Multi-Scale C&amp;W with targets that always correspond to the _Accordion_. For the left result, we use C&amp;W with &alpha; = 0.5, &straightepsilon; = 0.01 and &eta; = 0.00005; for the right result, we use Multi-Scale C&amp;W with &alpha; = 10.0, &straightepsilon; = 0.01 and &eta; = 0.00005."
   ]
  },
  {
   "cell_type": "code",
   "execution_count": 7,
   "metadata": {},
   "outputs": [
    {
     "data": {
      "text/html": [
       "<table><tr><td><img src='images/cw_a05_c001_lr5e-05_accordion_cm.png'></td><td><img src='images/mscw_a10_c001_lr5e-05_accordion_cm.png'></td></tr></table>"
      ],
      "text/plain": [
       "<IPython.core.display.HTML object>"
      ]
     },
     "metadata": {},
     "output_type": "display_data"
    }
   ],
   "source": [
    "display(HTML(\"<table><tr><td><img src='images/cw_a05_c001_lr5e-05_accordion_cm.png'></td><td><img src='images/mscw_a10_c001_lr5e-05_accordion_cm.png'></td></tr></table>\"))"
   ]
  },
  {
   "cell_type": "markdown",
   "metadata": {},
   "source": [
    "<a name=\"3\"></a>\n",
    "# A.3 Listening Examples\n",
    "\n",
    "To demonstrate the perceptibility and imperceptibility of different adversarial examples generated with the four approaches, we here provide an excerpt of hearing examples. The examples are chosen to represent good as well as bad examples of the attacks in particular parameter settings. The only exception here is FGSM in A.3.2, as the algorithm does not produce meaningful adversarial examples with defined parameters. For the majority of the remaining, in particular high-SNR adversarial examples, perturbations can be perceived as low-volume high-frequency noise.\n",
    "\n",
    "In what follows, original and adversarial examples are confronted, which is denoted by the according column headers. Above each listening example, a label is stated which corresponds to the predicted class of our instrument classification system for the particular audio. Unless stated otherwise, this prediction is equal to the ground-truth class of a sample; in case a prediction has been wrong, we give the correct ground-truth label in paranthesis.\n",
    "\n",
    "**Note: Make sure to start with low volume!**"
   ]
  },
  {
   "cell_type": "markdown",
   "metadata": {},
   "source": [
    "<a name=\"3-1\"></a>\n",
    "## A.3.1 Listening Examples for highest SNR with at least 150 adversarial samples\n",
    "\n",
    "### FGSM\n",
    "<table>\n",
    "  <tr>\n",
    "    <th></th>\n",
    "    <th style=\"text-align:center\">Original</th>\n",
    "    <th style=\"text-align:center\">FGSM</th>\n",
    "  </tr>\n",
    "  \n",
    "  <tr>\n",
    "    <td style=\"text-align:left\">0a3180bb.wav</td>\n",
    "    <td><p style=\"text-align:center\">`Harmonica`</p>\n",
    "        <p><audio controls src=\"audio/0a3180bb_orig.wav\"></audio></p></td>\n",
    "    <td><p style=\"text-align:center\">`Male Singing`</p>\n",
    "        <p><audio controls src=\"audio/0a3180bb_fgsm1.wav\"></audio></p></td>\n",
    "  </tr>\n",
    "    \n",
    "  <tr>\n",
    "    <td style=\"text-align:left\">cd2800a1.wav</td>\n",
    "    <td><p style=\"text-align:center\">`Bass Guitar`</p>\n",
    "        <p><audio controls src=\"audio/cd2800a1_orig.wav\"></audio></p></td>\n",
    "    <td><p style=\"text-align:center\">`Harmonica`</p>\n",
    "        <p><audio controls src=\"audio/cd2800a1_fgsm2.wav\"></audio></p></td>\n",
    "  </tr>\n",
    "  \n",
    "  <tr>\n",
    "    <td style=\"text-align:left\">ed240eb9.wav</td>\n",
    "    <td><p style=\"text-align:center\">`Electric Guitar`</p>\n",
    "        <p><audio controls src=\"audio/ed240eb9_orig.wav\"></audio></p></td>\n",
    "    <td><p style=\"text-align:center\">`Male Singing`</p>\n",
    "        <p><audio controls src=\"audio/ed240eb9_fgsm3.wav\"></audio></p></td>\n",
    "  </tr>\n",
    "\n",
    "</table>"
   ]
  },
  {
   "cell_type": "markdown",
   "metadata": {},
   "source": [
    "### PGDn\n",
    "<table>\n",
    "  <tr>\n",
    "    <th></th>\n",
    "    <th style=\"text-align:center\">Original</th>\n",
    "    <th style=\"text-align:center\">PGDn</th>\n",
    "  </tr>\n",
    "  \n",
    "  <tr>\n",
    "    <td style=\"text-align:left\">0a3180bb.wav</td>\n",
    "    <td><p style=\"text-align:center\">`Harmonica`</p>\n",
    "        <p><audio controls src=\"audio/0a3180bb_orig.wav\"></audio></p></td>\n",
    "    <td><p style=\"text-align:center\">`Male Singing`</p>\n",
    "        <p><audio controls src=\"audio/0a3180bb_pgdn1.wav\"></audio></p></td>\n",
    "  </tr>\n",
    "    \n",
    "  <tr>\n",
    "    <td style=\"text-align:left\">0041de6b.wav</td>\n",
    "    <td><p style=\"text-align:center\">`Acoustic Guitar`</p>\n",
    "        <p><audio controls src=\"audio/0041de6b_orig.wav\"></audio></p></td>\n",
    "    <td><p style=\"text-align:center\">`Bass Guitar`</p>\n",
    "        <p><audio controls src=\"audio/0041de6b_pgdn2.wav\"></audio></p></td>\n",
    "  </tr>\n",
    "  \n",
    "  <tr>\n",
    "    <td style=\"text-align:left\">3c0fb161.wav</td>\n",
    "    <td><p style=\"text-align:center\">`Bass Drum`</p>\n",
    "        <p><audio controls src=\"audio/3c0fb161_orig.wav\"></audio></p></td>\n",
    "    <td><p style=\"text-align:center\">`Marimba and Xylophone`</p>\n",
    "        <p><audio controls src=\"audio/3c0fb161_pgdn3.wav\"></audio></p></td>\n",
    "  </tr>\n",
    "\n",
    "</table>"
   ]
  },
  {
   "cell_type": "markdown",
   "metadata": {},
   "source": [
    "### C&amp;W\n",
    "\n",
    "<table>\n",
    "  <tr>\n",
    "    <th></th>\n",
    "    <th style=\"text-align:center\">Original</th>\n",
    "    <th style=\"text-align:center\">C&amp;W</th>\n",
    "  </tr>\n",
    "  \n",
    "  <tr>\n",
    "    <td style=\"text-align:left\">0a3180bb.wav</td>\n",
    "    <td><p style=\"text-align:center\">`Harmonica`</p>\n",
    "        <p><audio controls src=\"audio/0a3180bb_orig.wav\"></audio></p></td>\n",
    "    <td><p style=\"text-align:center\">`Acoustic Guitar`</p>\n",
    "        <p><audio controls src=\"audio/0a3180bb_cw1.wav\"></audio></p></td>\n",
    "  </tr>\n",
    "    \n",
    "  <tr>\n",
    "    <td style=\"text-align:left\">21065bd2.wav</td>\n",
    "    <td><p style=\"text-align:center\">`Glockenspiel` (real: `Marimba and Xylophone`)</p>\n",
    "        <p><audio controls src=\"audio/21065bd2_orig.wav\"></audio></p></td>\n",
    "    <td><p style=\"text-align:center\">`Gong`</p>\n",
    "        <p><audio controls src=\"audio/21065bd2_cw2.wav\"></audio></p></td>\n",
    "  </tr>\n",
    "  \n",
    "  <tr>\n",
    "    <td style=\"text-align:left\">1d35e64d.wav</td>\n",
    "    <td><p style=\"text-align:center\">`Accordion`</p>\n",
    "        <p><audio controls src=\"audio/1d35e64d_orig.wav\"></audio></p></td>\n",
    "    <td><p style=\"text-align:center\">`Harmonica`</p>\n",
    "        <p><audio controls src=\"audio/1d35e64d_cw3.wav\"></audio></p></td>\n",
    "  </tr>\n",
    "\n",
    "</table>"
   ]
  },
  {
   "cell_type": "markdown",
   "metadata": {},
   "source": [
    "### Multi-Scale C&amp;W\n",
    "\n",
    "<table>\n",
    "  <tr>\n",
    "    <th></th>\n",
    "    <th style=\"text-align:center\">Original</th>\n",
    "    <th style=\"text-align:center\">Multi-Scale C&amp;W</th>\n",
    "  </tr>\n",
    "  \n",
    "  <tr>\n",
    "    <td style=\"text-align:left\">0a3180bb.wav</td>\n",
    "    <td><p style=\"text-align:center\">`Harmonica`</p>\n",
    "        <p><audio controls src=\"audio/0a3180bb_orig.wav\"></audio></p></td>\n",
    "    <td><p style=\"text-align:center\">`Acoustic Guitar`</p>\n",
    "        <p><audio controls src=\"audio/0a3180bb_mscw1.wav\"></audio></p></td>\n",
    "  </tr>\n",
    "    \n",
    "  <tr>\n",
    "    <td style=\"text-align:left\">34746b28.wav</td>\n",
    "    <td><p style=\"text-align:center\">`Glockenspiel` (real: `Marimba and Xylophone`)</p>\n",
    "        <p><audio controls src=\"audio/34746b28_orig.wav\"></audio></p></td>\n",
    "    <td><p style=\"text-align:center\">`Accordion`</p>\n",
    "        <p><audio controls src=\"audio/34746b28_mscw2.wav\"></audio></p></td>\n",
    "  </tr>\n",
    "  \n",
    "  <tr>\n",
    "    <td style=\"text-align:left\">1d35e64d.wav</td>\n",
    "    <td><p style=\"text-align:center\">`Accordion`</p>\n",
    "        <p><audio controls src=\"audio/1d35e64d_orig.wav\"></audio></p></td>\n",
    "    <td><p style=\"text-align:center\">`Harmonica`</p>\n",
    "        <p><audio controls src=\"audio/1d35e64d_mscw3.wav\"></audio></p></td>\n",
    "  </tr>\n",
    "\n",
    "</table>"
   ]
  },
  {
   "cell_type": "markdown",
   "metadata": {},
   "source": [
    "<a name=\"3-2\"></a>\n",
    "## A.3.2 Listening Examples for highest SNR with at least 180 adversarial samples\n",
    "\n",
    "### FGSM\n",
    "<table>\n",
    "  <tr>\n",
    "    <th></th>\n",
    "    <th style=\"text-align:center\">Original</th>\n",
    "    <th style=\"text-align:center\">FGSM</th>\n",
    "  </tr>\n",
    "    \n",
    "  <tr>\n",
    "    <td style=\"text-align:left\">29f37eca.wav</td>\n",
    "    <td><p style=\"text-align:center\">`Marimba and Xylophone` (real: `Harmonica`)</p>\n",
    "        <p><audio controls src=\"audio/29f37eca_orig.wav\"></audio></p></td>\n",
    "    <td><p style=\"text-align:center\">`Hi-Hat`</p>\n",
    "        <p><audio controls src=\"audio/29f37eca_fgsm4.wav\"></audio></p></td>\n",
    "  </tr>\n",
    "</table>"
   ]
  },
  {
   "cell_type": "markdown",
   "metadata": {},
   "source": [
    "### PGDn\n",
    "<table>\n",
    "  <tr>\n",
    "    <th></th>\n",
    "    <th style=\"text-align:center\">Original</th>\n",
    "    <th style=\"text-align:center\">PGDn</th>\n",
    "  </tr>\n",
    "  \n",
    "  <tr>\n",
    "    <td style=\"text-align:left\">0a3180bb.wav</td>\n",
    "    <td><p style=\"text-align:center\">`Harmonica`</p>\n",
    "        <p><audio controls src=\"audio/0a3180bb_orig.wav\"></audio></p></td>\n",
    "    <td><p style=\"text-align:center\">`Accordion`</p>\n",
    "        <p><audio controls src=\"audio/0a3180bb_pgdn4.wav\"></audio></p></td>\n",
    "  </tr>\n",
    "    \n",
    "  <tr>\n",
    "    <td style=\"text-align:left\">ed240eb9.wav</td>\n",
    "    <td><p style=\"text-align:center\">`Electric Guitar`</p>\n",
    "        <p><audio controls src=\"audio/ed240eb9_orig.wav\"></audio></p></td>\n",
    "    <td><p style=\"text-align:center\">`Harmonica`</p>\n",
    "        <p><audio controls src=\"audio/ed240eb9_pgdn5.wav\"></audio></p></td>\n",
    "  </tr>\n",
    "  \n",
    "  <tr>\n",
    "    <td style=\"text-align:left\">cd573d3a.wav</td>\n",
    "    <td><p style=\"text-align:center\">`Hi-Hat`</p>\n",
    "        <p><audio controls src=\"audio/cd573d3a_orig.wav\"></audio></p></td>\n",
    "    <td><p style=\"text-align:center\">`Harmonica`</p>\n",
    "        <p><audio controls src=\"audio/cd573d3a_pgdn6.wav\"></audio></p></td>\n",
    "  </tr>\n",
    "\n",
    "</table>"
   ]
  },
  {
   "cell_type": "markdown",
   "metadata": {},
   "source": [
    "### C&amp;W\n",
    "\n",
    "<table>\n",
    "  <tr>\n",
    "    <th></th>\n",
    "    <th style=\"text-align:center\">Original</th>\n",
    "    <th style=\"text-align:center\">C&amp;W</th>\n",
    "  </tr>\n",
    "  \n",
    "  <tr>\n",
    "    <td style=\"text-align:left\">0a3180bb.wav</td>\n",
    "    <td><p style=\"text-align:center\">`Harmonica`</p>\n",
    "        <p><audio controls src=\"audio/0a3180bb_orig.wav\"></audio></p></td>\n",
    "    <td><p style=\"text-align:center\">`Acoustic Guitar`</p>\n",
    "        <p><audio controls src=\"audio/0a3180bb_cw4.wav\"></audio></p></td>\n",
    "  </tr>\n",
    "    \n",
    "  <tr>\n",
    "    <td style=\"text-align:left\">a592b6cf.wav</td>\n",
    "    <td><p style=\"text-align:center\">`Gong`</p>\n",
    "        <p><audio controls src=\"audio/a592b6cf_orig.wav\"></audio></p></td>\n",
    "    <td><p style=\"text-align:center\">`Accordion`</p>\n",
    "        <p><audio controls src=\"audio/a592b6cf_cw5.wav\"></audio></p></td>\n",
    "  </tr>\n",
    "  \n",
    "  <tr>\n",
    "    <td style=\"text-align:left\">bb44c157.wav</td>\n",
    "    <td><p style=\"text-align:center\">`Glockenspiel` (real: `Marimba and Xylophone`)</p>\n",
    "        <p><audio controls src=\"audio/bb44c157_orig.wav\"></audio></p></td>\n",
    "    <td><p style=\"text-align:center\">`Female Singing`</p>\n",
    "        <p><audio controls src=\"audio/bb44c157_cw6.wav\"></audio></p></td>\n",
    "  </tr>\n",
    "\n",
    "</table>"
   ]
  },
  {
   "cell_type": "markdown",
   "metadata": {},
   "source": [
    "### Multi-Scale C&amp;W\n",
    "\n",
    "<table>\n",
    "  <tr>\n",
    "    <th></th>\n",
    "    <th style=\"text-align:center\">Original</th>\n",
    "    <th style=\"text-align:center\">Multi-Scale C&amp;W</th>\n",
    "  </tr>\n",
    "  \n",
    "  <tr>\n",
    "    <td style=\"text-align:left\">0a3180bb.wav</td>\n",
    "    <td><p style=\"text-align:center\">`Harmonica`</p>\n",
    "        <p><audio controls src=\"audio/0a3180bb_orig.wav\"></audio></p></td>\n",
    "    <td><p style=\"text-align:center\">`Acoustic Guitar`</p>\n",
    "        <p><audio controls src=\"audio/0a3180bb_mscw4.wav\"></audio></p></td>\n",
    "  </tr>\n",
    "    \n",
    "  <tr>\n",
    "    <td style=\"text-align:left\">024e0fbe.wav</td>\n",
    "    <td><p style=\"text-align:center\">`Bass Drum`</p>\n",
    "        <p><audio controls src=\"audio/024e0fbe_orig.wav\"></audio></p></td>\n",
    "    <td><p style=\"text-align:center\">`Accordion`</p>\n",
    "        <p><audio controls src=\"audio/024e0fbe_mscw5.wav\"></audio></p></td>\n",
    "  </tr>\n",
    "  \n",
    "  <tr>\n",
    "    <td style=\"text-align:left\">f9694d27.wav</td>\n",
    "    <td><p style=\"text-align:center\">`Bass Guitar`</p>\n",
    "        <p><audio controls src=\"audio/f9694d27_orig.wav\"></audio></p></td>\n",
    "    <td><p style=\"text-align:center\">`Electric Guitar`</p>\n",
    "        <p><audio controls src=\"audio/f9694d27_mscw6.wav\"></audio></p></td>\n",
    "  </tr>\n",
    "\n",
    "</table>"
   ]
  },
  {
   "cell_type": "markdown",
   "metadata": {},
   "source": [
    "<a name=\"3-3\"></a>\n",
    "## A.3.3 Improved FGSM Results\n",
    "\n",
    "In contrast to what previous FGSM examples show (cf. A.31 and A.32), FGSM is able to find adversarial perturbations that are less perceptible, e.g. by decreasing &straightepsilon; to 0.0001.\n",
    "\n",
    "<table>\n",
    "  <tr>\n",
    "    <th></th>\n",
    "    <th style=\"text-align:center\">Original</th>\n",
    "    <th style=\"text-align:center\">FGSM</th>\n",
    "  </tr>\n",
    "  \n",
    "  <tr>\n",
    "    <td style=\"text-align:left\">2326dece.wav</td>\n",
    "    <td><p style=\"text-align:center\">`Electric Guitar`</p>\n",
    "        <p><audio controls src=\"audio/2326dece_orig.wav\"></audio></p></td>\n",
    "    <td><p style=\"text-align:center\">`Gong`</p>\n",
    "        <p><audio controls src=\"audio/2326dece_fgsm5.wav\"></audio></p></td>\n",
    "  </tr>\n",
    "    \n",
    "  <tr>\n",
    "    <td style=\"text-align:left\">d1af3039.wav</td>\n",
    "    <td><p style=\"text-align:center\">`Gong`</p>\n",
    "        <p><audio controls src=\"audio/d1af3039_orig.wav\"></audio></p></td>\n",
    "    <td><p style=\"text-align:center\">`Harmonica`</p>\n",
    "        <p><audio controls src=\"audio/d1af3039_fgsm6.wav\"></audio></p></td>\n",
    "  </tr>\n",
    "\n",
    "</table>"
   ]
  },
  {
   "cell_type": "markdown",
   "metadata": {},
   "source": [
    "<a name=\"3-4\"></a>\n",
    "## A.3.4 Listening Examples for Target Class Accordion\n",
    "\n",
    "<table>\n",
    "  <tr>\n",
    "    <th></th>\n",
    "    <th style=\"text-align:center\">Original</th>\n",
    "    <th style=\"text-align:center\">C&amp;W</th>\n",
    "    <th style=\"text-align:center\">Multi-Scale C&amp;W</th>\n",
    "  </tr>\n",
    "  \n",
    "  <tr>\n",
    "    <td style=\"text-align:left\">0a3180bb.wav</td>\n",
    "    <td><p style=\"text-align:center\">`Harmonica`</p>\n",
    "        <p><audio controls src=\"audio/0a3180bb_orig.wav\"></audio></p></td>\n",
    "    <td><p style=\"text-align:center\">`Accordion`</p>\n",
    "        <p><audio controls src=\"audio/0a3180bb_cw7.wav\"></audio></p></td>\n",
    "    <td><p style=\"text-align:center\">`Accordion`</p>\n",
    "        <p><audio controls src=\"audio/0a3180bb_mscw7.wav\"></audio></p></td>\n",
    "  </tr>\n",
    "    \n",
    "  <tr>\n",
    "    <td style=\"text-align:left\">c49f1069.wav</td>\n",
    "    <td><p style=\"text-align:center\">`Bass Guitar`</p>\n",
    "        <p><audio controls src=\"audio/c49f1069_orig.wav\"></audio></p></td>\n",
    "    <td><p style=\"text-align:center\">`Accordion`</p>\n",
    "        <p><audio controls src=\"audio/c49f1069_cw8.wav\"></audio></p></td>\n",
    "    <td><p style=\"text-align:center\">`Accordion`</p>\n",
    "        <p><audio controls src=\"audio/c49f1069_mscw8.wav\"></audio></p></td>\n",
    "  </tr>\n",
    "  \n",
    "  <tr>\n",
    "    <td style=\"text-align:left\">c6a1d90c.wav</td>\n",
    "    <td><p style=\"text-align:center\">`Marimba and Xylophone`</p>\n",
    "        <p><audio controls src=\"audio/c6a1d90c_orig.wav\"></audio></p></td>\n",
    "    <td><p style=\"text-align:center\">`Accordion`</p>\n",
    "        <p><audio controls src=\"audio/c6a1d90c_cw9.wav\"></audio></p></td>\n",
    "    <td><p style=\"text-align:center\">`Accordion`</p>\n",
    "        <p><audio controls src=\"audio/c6a1d90c_mscw9.wav\"></audio></p></td>\n",
    "  </tr>\n",
    "\n",
    "</table>"
   ]
  },
  {
   "cell_type": "code",
   "execution_count": null,
   "metadata": {},
   "outputs": [],
   "source": []
  }
 ],
 "metadata": {
  "kernelspec": {
   "display_name": "Python 3",
   "language": "python",
   "name": "python3"
  },
  "language_info": {
   "codemirror_mode": {
    "name": "ipython",
    "version": 3
   },
   "file_extension": ".py",
   "mimetype": "text/x-python",
   "name": "python",
   "nbconvert_exporter": "python",
   "pygments_lexer": "ipython3",
   "version": "3.8.3"
  }
 },
 "nbformat": 4,
 "nbformat_minor": 4
}
